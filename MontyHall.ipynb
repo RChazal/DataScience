{
 "cells": [
  {
   "cell_type": "code",
   "execution_count": 2,
   "metadata": {},
   "outputs": [
    {
     "name": "stdout",
     "output_type": "stream",
     "text": [
      "Victoires quand on reste : 3347\n",
      "Victoires en change : 6653\n"
     ]
    }
   ],
   "source": [
    "# -*- coding: utf-8 -*-\n",
    " \n",
    " \n",
    "import random\n",
    " \n",
    " \n",
    "victoires_quand_on_change = victoires_quand_on_reste = 0\n",
    "portes = (u\"Voiture\", u\"Chèvre\", u\"Chèvre\")\n",
    " \n",
    "# On fait 10000 parties du jeu\n",
    "for i in range(10000):\n",
    " \n",
    "    # Le joueur prend une porte au hasard\n",
    "    porte_choisie = portes[random.randint(0, 2)]\n",
    " \n",
    "    # Le présentateur ouvre une des deux autres porte et c'est toujours une \n",
    "    # chèvre derrière celle-ci. La dernière porte contient donc une\n",
    "    # voiture si le candidat a choisit une chèvre, et inversement.\n",
    "    porte_restante = u'Chèvre' if porte_choisie == u\"Voiture\" else u\"Voiture\"\n",
    " \n",
    "    # int(False) == 0 et int(True) == 1 en Python\n",
    "    victoires_quand_on_change += int(porte_restante == u'Voiture')\n",
    "    victoires_quand_on_reste += int(porte_choisie == u'Voiture')\n",
    " \n",
    " \n",
    "print(u\"Victoires quand on reste : {}\".format(victoires_quand_on_reste))\n",
    "print(u\"Victoires en change : {}\".format(victoires_quand_on_change))"
   ]
  },
  {
   "cell_type": "code",
   "execution_count": null,
   "metadata": {},
   "outputs": [],
   "source": []
  }
 ],
 "metadata": {
  "kernelspec": {
   "display_name": "Python 3",
   "language": "python",
   "name": "python3"
  },
  "language_info": {
   "codemirror_mode": {
    "name": "ipython",
    "version": 3
   },
   "file_extension": ".py",
   "mimetype": "text/x-python",
   "name": "python",
   "nbconvert_exporter": "python",
   "pygments_lexer": "ipython3",
   "version": "3.8.8"
  }
 },
 "nbformat": 4,
 "nbformat_minor": 4
}
