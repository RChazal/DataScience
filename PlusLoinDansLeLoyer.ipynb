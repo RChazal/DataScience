{
 "cells": [
  {
   "cell_type": "code",
   "execution_count": 1,
   "metadata": {},
   "outputs": [
    {
     "data": {
      "text/html": [
       "<div>\n",
       "<style scoped>\n",
       "    .dataframe tbody tr th:only-of-type {\n",
       "        vertical-align: middle;\n",
       "    }\n",
       "\n",
       "    .dataframe tbody tr th {\n",
       "        vertical-align: top;\n",
       "    }\n",
       "\n",
       "    .dataframe thead th {\n",
       "        text-align: right;\n",
       "    }\n",
       "</style>\n",
       "<table border=\"1\" class=\"dataframe\">\n",
       "  <thead>\n",
       "    <tr style=\"text-align: right;\">\n",
       "      <th></th>\n",
       "      <th>price</th>\n",
       "      <th>surface</th>\n",
       "      <th>arrondissement</th>\n",
       "    </tr>\n",
       "  </thead>\n",
       "  <tbody>\n",
       "    <tr>\n",
       "      <th>0</th>\n",
       "      <td>1820</td>\n",
       "      <td>46.1</td>\n",
       "      <td>1.0</td>\n",
       "    </tr>\n",
       "    <tr>\n",
       "      <th>1</th>\n",
       "      <td>1750</td>\n",
       "      <td>41.0</td>\n",
       "      <td>1.0</td>\n",
       "    </tr>\n",
       "    <tr>\n",
       "      <th>2</th>\n",
       "      <td>1900</td>\n",
       "      <td>55.0</td>\n",
       "      <td>1.0</td>\n",
       "    </tr>\n",
       "    <tr>\n",
       "      <th>3</th>\n",
       "      <td>1950</td>\n",
       "      <td>46.0</td>\n",
       "      <td>1.0</td>\n",
       "    </tr>\n",
       "    <tr>\n",
       "      <th>4</th>\n",
       "      <td>1950</td>\n",
       "      <td>49.0</td>\n",
       "      <td>1.0</td>\n",
       "    </tr>\n",
       "  </tbody>\n",
       "</table>\n",
       "</div>"
      ],
      "text/plain": [
       "   price  surface  arrondissement\n",
       "0   1820     46.1             1.0\n",
       "1   1750     41.0             1.0\n",
       "2   1900     55.0             1.0\n",
       "3   1950     46.0             1.0\n",
       "4   1950     49.0             1.0"
      ]
     },
     "execution_count": 1,
     "metadata": {},
     "output_type": "execute_result"
    }
   ],
   "source": [
    "# On importe les librairies dont on aura besoin pour ce tp\n",
    "import numpy as np\n",
    "import pandas as pd\n",
    "import matplotlib.pyplot as plt\n",
    "from sklearn import datasets, linear_model\n",
    "from sklearn.metrics import mean_squared_error, r2_score\n",
    "import seaborn as seabornInstance \n",
    "from sklearn.model_selection import train_test_split \n",
    "from sklearn.linear_model import LinearRegression\n",
    "from sklearn import metrics\n",
    "%matplotlib inline\n",
    "\n",
    "# On charge le dataset\n",
    "house_data = pd.read_csv('house_data.csv')\n",
    "\n",
    "#On clean le data set.\n",
    "House_data = house_data.dropna()\n",
    "\n",
    "#reduction des données\n",
    "House_data = House_data[House_data['price'] < 10000]\n",
    "\n",
    "#la tronche des données\n",
    "House_data.head()\n",
    "\n"
   ]
  },
  {
   "cell_type": "code",
   "execution_count": 1,
   "metadata": {},
   "outputs": [
    {
     "data": {
      "image/png": "[encoded data removed]",
      "text/plain": [
       "<Figure size 432x288 with 1 Axes>"
      ]
     },
     "metadata": {},
     "output_type": "display_data"
    }
   ],
   "source": [
    "# On affiche le nuage de points dont on dispose\n",
    "plt.plot(House_data['surface'], House_data['price'], 'ro', markersize=4)\n",
    "plt.show()"
   ]
  },
  {
   "cell_type": "code",
   "execution_count": 2,
   "metadata": {},
   "outputs": [],
   "source": [
    "# On décompose le dataset et on le transforme en matrices pour pouvoir effectuer notre calcul\n",
    "x = House_data['surface']\n",
    "y = House_data['price']\n",
    "z = House_data['arrondissement']\n",
    "\n",
    "X = np.array(x).reshape((-1, 1))\n",
    "Y = np.array(y)\n",
    "Z = np.array(z)\n",
    "\n",
    "#X = house_data([house_data['surface']]).reshape((-1, 1))\n",
    "#Y = house_data([house_data['price']])\n",
    "\n",
    "#X.reshape(1, -1)"
   ]
  },
  {
   "cell_type": "code",
   "execution_count": 3,
   "metadata": {},
   "outputs": [
    {
     "name": "stderr",
     "output_type": "stream",
     "text": [
      "C:\\Users\\Richard\\Anaconda3\\lib\\site-packages\\sklearn\\model_selection\\_split.py:2026: FutureWarning: From version 0.21, test_size will always complement train_size unless both are specified.\n",
      "  FutureWarning)\n"
     ]
    }
   ],
   "source": [
    "#on partage les données en 2 jeux de train et test\n",
    "from sklearn.model_selection import train_test_split\n",
    "\n",
    "xtrain, xtest, ytrain, ytest = train_test_split(X, Y, train_size=0.8)"
   ]
  },
  {
   "cell_type": "code",
   "execution_count": 4,
   "metadata": {},
   "outputs": [
    {
     "name": "stdout",
     "output_type": "stream",
     "text": [
      "239.63326800459026\n",
      "[29.2652254]\n"
     ]
    }
   ],
   "source": [
    "#regression linéaire à 2 features : notre scénario de base\n",
    "from sklearn import linear_model\n",
    "\n",
    "regr = linear_model.LinearRegression()\n",
    "regr.fit(xtrain, ytrain)\n",
    "\n",
    "#le petit b:\n",
    "print(regr.intercept_)\n",
    "#le petit a:\n",
    "print(regr.coef_)\n"
   ]
  },
  {
   "cell_type": "code",
   "execution_count": 5,
   "metadata": {},
   "outputs": [
    {
     "data": {
      "text/html": [
       "<div>\n",
       "<style scoped>\n",
       "    .dataframe tbody tr th:only-of-type {\n",
       "        vertical-align: middle;\n",
       "    }\n",
       "\n",
       "    .dataframe tbody tr th {\n",
       "        vertical-align: top;\n",
       "    }\n",
       "\n",
       "    .dataframe thead th {\n",
       "        text-align: right;\n",
       "    }\n",
       "</style>\n",
       "<table border=\"1\" class=\"dataframe\">\n",
       "  <thead>\n",
       "    <tr style=\"text-align: right;\">\n",
       "      <th></th>\n",
       "      <th>Actual</th>\n",
       "      <th>Predicted</th>\n",
       "    </tr>\n",
       "  </thead>\n",
       "  <tbody>\n",
       "    <tr>\n",
       "      <th>0</th>\n",
       "      <td>2500</td>\n",
       "      <td>2288.199046</td>\n",
       "    </tr>\n",
       "    <tr>\n",
       "      <th>1</th>\n",
       "      <td>1400</td>\n",
       "      <td>1501.549787</td>\n",
       "    </tr>\n",
       "    <tr>\n",
       "      <th>2</th>\n",
       "      <td>3000</td>\n",
       "      <td>1702.894538</td>\n",
       "    </tr>\n",
       "    <tr>\n",
       "      <th>3</th>\n",
       "      <td>3000</td>\n",
       "      <td>3195.421033</td>\n",
       "    </tr>\n",
       "    <tr>\n",
       "      <th>4</th>\n",
       "      <td>2480</td>\n",
       "      <td>2580.851300</td>\n",
       "    </tr>\n",
       "  </tbody>\n",
       "</table>\n",
       "</div>"
      ],
      "text/plain": [
       "   Actual    Predicted\n",
       "0    2500  2288.199046\n",
       "1    1400  1501.549787\n",
       "2    3000  1702.894538\n",
       "3    3000  3195.421033\n",
       "4    2480  2580.851300"
      ]
     },
     "execution_count": 5,
     "metadata": {},
     "output_type": "execute_result"
    }
   ],
   "source": [
    "ypred = regr.predict(xtest)\n",
    "\n",
    "df = pd.DataFrame({'Actual': ytest.flatten(), 'Predicted': ypred.flatten()})\n",
    "df.head()\n"
   ]
  },
  {
   "cell_type": "code",
   "execution_count": 6,
   "metadata": {},
   "outputs": [
    {
     "name": "stdout",
     "output_type": "stream",
     "text": [
      "Coefficients: \n",
      " [29.2652254]\n",
      "Mean squared error: 310722.67\n",
      "Variance score: 0.74\n"
     ]
    }
   ],
   "source": [
    "#Qualité de la régression : coefficents\n",
    "print('Coefficients: \\n', regr.coef_)\n",
    "\n",
    "#RMSE\n",
    "print(\"Mean squared error: %.2f\"\n",
    "      % mean_squared_error(ytest, ypred))\n",
    "\n",
    "# Explained variance score: 1 is perfect prediction\n",
    "print('Variance score: %.2f' % r2_score(ytest, ypred))\n",
    "\n"
   ]
  },
  {
   "cell_type": "code",
   "execution_count": 7,
   "metadata": {},
   "outputs": [
    {
     "data": {
      "image/png": "[encoded data removed]",
      "text/plain": [
       "<Figure size 432x288 with 1 Axes>"
      ]
     },
     "metadata": {},
     "output_type": "display_data"
    }
   ],
   "source": [
    "#Qualité de la régression : graph\n",
    "plt.scatter(xtest, ytest,  color='gray')\n",
    "plt.plot(House_data['surface'], House_data['price'], 'ro', markersize=4)\n",
    "plt.plot(xtest, ypred, color='blue', linewidth=3)\n",
    "plt.show()\n",
    "\n"
   ]
  },
  {
   "cell_type": "code",
   "execution_count": 8,
   "metadata": {},
   "outputs": [
    {
     "name": "stderr",
     "output_type": "stream",
     "text": [
      "C:\\Users\\Richard\\Anaconda3\\lib\\site-packages\\sklearn\\model_selection\\_split.py:2026: FutureWarning: From version 0.21, test_size will always complement train_size unless both are specified.\n",
      "  FutureWarning)\n"
     ]
    },
    {
     "data": {
      "image/png": "[encoded data removed]",
      "text/plain": [
       "<Figure size 432x288 with 1 Axes>"
      ]
     },
     "metadata": {},
     "output_type": "display_data"
    },
    {
     "name": "stdout",
     "output_type": "stream",
     "text": [
      "le nombre de voisin optimal est de 7 pour ce jeu de données et cet essai\n"
     ]
    },
    {
     "ename": "AttributeError",
     "evalue": "'KNeighborsRegressor' object has no attribute 'coef_'",
     "output_type": "error",
     "traceback": [
      "\u001b[1;31m---------------------------------------------------------------------------\u001b[0m",
      "\u001b[1;31mAttributeError\u001b[0m                            Traceback (most recent call last)",
      "\u001b[1;32m<ipython-input-8-ef64b893690f>\u001b[0m in \u001b[0;36m<module>\u001b[1;34m()\u001b[0m\n\u001b[0;32m     46\u001b[0m \u001b[1;33m\u001b[0m\u001b[0m\n\u001b[0;32m     47\u001b[0m \u001b[1;31m#Qualité de la régression : coefficents\u001b[0m\u001b[1;33m\u001b[0m\u001b[1;33m\u001b[0m\u001b[0m\n\u001b[1;32m---> 48\u001b[1;33m \u001b[0mprint\u001b[0m\u001b[1;33m(\u001b[0m\u001b[1;34m'Coefficients: \\n'\u001b[0m\u001b[1;33m,\u001b[0m \u001b[0mknn\u001b[0m\u001b[1;33m.\u001b[0m\u001b[0mcoef_\u001b[0m\u001b[1;33m)\u001b[0m\u001b[1;33m\u001b[0m\u001b[0m\n\u001b[0m\u001b[0;32m     49\u001b[0m \u001b[1;33m\u001b[0m\u001b[0m\n\u001b[0;32m     50\u001b[0m \u001b[1;31m#RMSE\u001b[0m\u001b[1;33m\u001b[0m\u001b[1;33m\u001b[0m\u001b[0m\n",
      "\u001b[1;31mAttributeError\u001b[0m: 'KNeighborsRegressor' object has no attribute 'coef_'"
     ]
    }
   ],
   "source": [
    "#Scénario alternatif 1 : On tente un KNN régrésseur\n",
    "\n",
    "#Le jeu de données reste le même.\n",
    "#Je garde les jeux que précédement\n",
    "\n",
    "#La bibliothèque dont on a besoin : KNN regresseur\n",
    "from sklearn.neighbors import KNeighborsRegressor\n",
    "from sklearn import neighbors\n",
    "\n",
    "x = House_data['surface']\n",
    "y = House_data['price']\n",
    "\n",
    "Xknn = np.array(x).reshape((-1, 1))\n",
    "Yknn = np.array(y)\n",
    "\n",
    "#on partage les données en 2 jeux de train et test\n",
    "from sklearn.model_selection import train_test_split\n",
    "\n",
    "xknn_train, xknn_test, yknn_train, yknn_test = train_test_split(Xknn, Yknn, train_size=0.8)\n",
    "\n",
    "#on cherche le nombre de voisins optimal (script à désactiver ensuite)\n",
    "\n",
    "\n",
    "errors = []\n",
    "for k in range(2,15):\n",
    "    knnTEST = neighbors.KNeighborsRegressor(k)\n",
    "    errors.append(100*(1 - knnTEST.fit(xknn_train, yknn_train).score(xknn_test, yknn_test)))\n",
    "plt.plot(range(2,15), errors, 'o-')\n",
    "plt.show()\n",
    "\n",
    "#le nombre de voisin optimal est de 7 pour ce jeu de données et cet essai\n",
    "print('le nombre de voisin optimal est de 7 pour ce jeu de données et cet essai')\n",
    "\n",
    "from sklearn.neighbors import KNeighborsRegressor\n",
    "# un KNN avec 7 voisins\n",
    "knn = KNeighborsRegressor(n_neighbors=7)\n",
    "# On créé le modèle avec les données d'entrainement\n",
    "knn.fit(xknn_train, yknn_train)\n",
    "# Et on prédit\n",
    "predictions = knn.predict(xknn_test)\n",
    "\n",
    "yknn_pred = regr.predict(xknn_test)\n",
    "\n",
    "df2 = pd.DataFrame({'Actual': yknn_test.flatten(), 'Predicted': yknn_pred.flatten()})\n",
    "df2.head()\n",
    "\n",
    "#Qualité de la régression : coefficents\n",
    "print('Coefficients: \\n', knn.coef_)\n",
    "\n",
    "#RMSE\n",
    "print(\"Mean squared error: %.2f\"\n",
    "      % mean_squared_error(yknn_test, yknn_pred))\n",
    "\n",
    "# Explained variance score: 1 is perfect prediction\n",
    "print('Variance score: %.2f' % r2_score(yknn_test, yknn_pred))"
   ]
  },
  {
   "cell_type": "code",
   "execution_count": 13,
   "metadata": {},
   "outputs": [
    {
     "data": {
      "image/png": "[encoded data removed]",
      "text/plain": [
       "<Figure size 432x288 with 1 Axes>"
      ]
     },
     "metadata": {},
     "output_type": "display_data"
    }
   ],
   "source": [
    "#Qualité de la régression knn : graph\n",
    "plt.scatter(xknn_test, yknn_test,  color='gray')\n",
    "plt.plot(House_data['surface'], House_data['price'], 'ro', markersize=4)\n",
    "plt.plot(xknn_test, yknn_pred, color='blue', linewidth=3)\n",
    "plt.show()\n",
    "\n"
   ]
  },
  {
   "cell_type": "code",
   "execution_count": 21,
   "metadata": {},
   "outputs": [
    {
     "name": "stdout",
     "output_type": "stream",
     "text": [
      "Mean squared error: 212282.56\n",
      "Variance score: 0.83\n"
     ]
    },
    {
     "name": "stderr",
     "output_type": "stream",
     "text": [
      "C:\\Users\\Richard\\Anaconda3\\lib\\site-packages\\sklearn\\model_selection\\_split.py:2026: FutureWarning: From version 0.21, test_size will always complement train_size unless both are specified.\n",
      "  FutureWarning)\n"
     ]
    },
    {
     "data": {
      "image/png": "[encoded data removed]",
      "text/plain": [
       "<Figure size 432x288 with 1 Axes>"
      ]
     },
     "metadata": {},
     "output_type": "display_data"
    }
   ],
   "source": [
    "#Scénario alternatif 2 : SVM sur toutes les données\n",
    "\n",
    "from sklearn.preprocessing import scale \n",
    "from sklearn import model_selection\n",
    "from sklearn.decomposition import PCA\n",
    "from sklearn.linear_model import LinearRegression\n",
    "from sklearn.cross_decomposition import PLSRegression\n",
    "from sklearn.metrics import mean_squared_error, r2_score\n",
    "from sklearn.model_selection import cross_val_predict\n",
    "from sklearn.svm import SVR\n",
    "\n",
    "#On décompose le dataset et on le transforme en matrices pour pouvoir effectuer notre calcul\n",
    "xSVR = House_data[['surface', 'arrondissement']]\n",
    "ySVR = House_data['price']\n",
    "\n",
    "XSVR = np.array(xSVR).reshape((-1, 1))\n",
    "YSVR = np.array(ySVR)\n",
    "\n",
    "#on partage les données en 2 jeux de train et test\n",
    "from sklearn.model_selection import train_test_split\n",
    "\n",
    "xSVR_train, xSVR_test, ySVR_train, ySVR_test = train_test_split(xSVR, ySVR, train_size=0.8)\n",
    "\n",
    "#on lance la SVM\n",
    "from sklearn.svm import SVR\n",
    "svmregressor = SVR(kernel='linear')\n",
    "svmregressor.fit(xSVR_train, ySVR_train)\n",
    "ySVR_pred = svmregressor.predict(xSVR_test)\n",
    "\n",
    "\n",
    "#df3 = pd.DataFrame({'Actual': ySVR_test.flatten(), 'Predicted': ySVR_pred.flatten()})\n",
    "#df3.head()\n",
    "\n",
    "#RMSE\n",
    "print(\"Mean squared error: %.2f\"\n",
    "      % mean_squared_error(ySVR_test, ySVR_pred))\n",
    "\n",
    "# Explained variance score: 1 is perfect prediction\n",
    "print('Variance score: %.2f' % r2_score(ySVR_test, ySVR_pred))\n",
    "\n",
    "#Qualité de la régression knn : graph\n",
    "plt.plot(House_data['surface'], House_data['price'], 'ro', markersize=4)\n",
    "plt.plot(xSVR_test, ySVR_pred, color='blue', linewidth=3)\n",
    "plt.show()\n",
    "\n",
    "\n",
    "#lE GRAPH EST FOIREUX...\n",
    "\n",
    "\n",
    "\n",
    "\n",
    "\n"
   ]
  },
  {
   "cell_type": "code",
   "execution_count": 22,
   "metadata": {},
   "outputs": [
    {
     "name": "stdout",
     "output_type": "stream",
     "text": [
      "472.57419446810127\n",
      "[ 28.68114519 -47.41152939]\n",
      "Coefficients: \n",
      " [ 28.68114519 -47.41152939]\n",
      "Mean squared error: 167837.10\n",
      "Variance score: 0.88\n"
     ]
    },
    {
     "name": "stderr",
     "output_type": "stream",
     "text": [
      "C:\\Users\\Richard\\Anaconda3\\lib\\site-packages\\sklearn\\model_selection\\_split.py:2026: FutureWarning: From version 0.21, test_size will always complement train_size unless both are specified.\n",
      "  FutureWarning)\n"
     ]
    }
   ],
   "source": [
    "#Scénario alternatif 3, pour le bonus : régression linéaire multiple, sur toutes les données\n",
    "\n",
    "from sklearn.preprocessing import scale \n",
    "from sklearn import model_selection\n",
    "from sklearn.decomposition import PCA\n",
    "from sklearn.linear_model import LinearRegression\n",
    "from sklearn.cross_decomposition import PLSRegression\n",
    "from sklearn.metrics import mean_squared_error, r2_score\n",
    "\n",
    "#On décompose le dataset et on le transforme en matrices pour pouvoir effectuer notre calcul\n",
    "xRLM = House_data[['surface', 'arrondissement']]\n",
    "yRLM = House_data['price']\n",
    "\n",
    "XRLM = np.array(xRLM).reshape((-1, 1))\n",
    "YRLM = np.array(yRLM)\n",
    "\n",
    "#on partage les données en 2 jeux de train et test\n",
    "from sklearn.model_selection import train_test_split\n",
    "\n",
    "xRLM_train, xRLM_test, yRLM_train, yRLM_test = train_test_split(xRLM, yRLM, train_size=0.8)\n",
    "\n",
    "#on lance la RLM\n",
    "regr = linear_model.LinearRegression()\n",
    "regr.fit(xRLM_train, yRLM_train)\n",
    "\n",
    "#le petit b:\n",
    "print(regr.intercept_)\n",
    "#le petit a:\n",
    "print(regr.coef_)\n",
    "\n",
    "#on prédit\n",
    "yRLM_pred = regr.predict(xRLM_test)\n",
    "\n",
    "#Qualité de la régression : coefficents\n",
    "print('Coefficients: \\n', regr.coef_)\n",
    "\n",
    "#RMSE\n",
    "print(\"Mean squared error: %.2f\"\n",
    "      % mean_squared_error(yRLM_test, yRLM_pred))\n",
    "\n",
    "# Explained variance score: 1 is perfect prediction\n",
    "print('Variance score: %.2f' % r2_score(yRLM_test, yRLM_pred))\n",
    "\n",
    "\n",
    "\n"
   ]
  },
  {
   "cell_type": "code",
   "execution_count": 23,
   "metadata": {},
   "outputs": [
    {
     "name": "stdout",
     "output_type": "stream",
     "text": [
      "Modèle de base : régression linéaire\n",
      "Mean squared error: 246463.78\n",
      "Variance score: 0.83\n",
      "Modèle alternatif 1 : KNN régresseur\n",
      "Mean squared error: 385696.66\n",
      "Variance score: 0.79\n",
      "Modèle alternatif 2 : SVM régresseur\n",
      "Mean squared error: 212282.56\n",
      "Variance score: 0.83\n",
      "Modèle alternatif 3 : Régression linéaire multiple\n",
      "Mean squared error: 167837.10\n",
      "Variance score: 0.88\n",
      "A force de répéter (la sélection des jeux de test et entrainement est aléatoire), on voit que la Régression linéaire multiple se ditingue, de peu. Le régresseur KNN à 7 voisins semble le moins performant. Le régresseur SVM avec les 3 tables de données est moins précis, mais sera plus utile. Autres algos pouvant etre tentés : PCR, PLS, et KNN régresseur multiple\n"
     ]
    }
   ],
   "source": [
    "#Résumé :\n",
    "#On évalue les performances des modèles par le R2 et la RMSE.\n",
    "#Le meilleur R2 est celui le plus proche de 1, la RMSE doit etre la plus petite possible.\n",
    "\n",
    "\n",
    "print('Modèle de base : régression linéaire')\n",
    "\n",
    "#RMSE\n",
    "print(\"Mean squared error: %.2f\"\n",
    "      % mean_squared_error(ytest, ypred))\n",
    "\n",
    "# Explained variance score: 1 is perfect prediction\n",
    "print('Variance score: %.2f' % r2_score(ytest, ypred))\n",
    "\n",
    "\n",
    "print('Modèle alternatif 1 : KNN régresseur')\n",
    "#RMSE\n",
    "print(\"Mean squared error: %.2f\"\n",
    "      % mean_squared_error(yknn_test, yknn_pred))\n",
    "\n",
    "# Explained variance score: 1 is perfect prediction\n",
    "print('Variance score: %.2f' % r2_score(yknn_test, yknn_pred))\n",
    "\n",
    "\n",
    "print('Modèle alternatif 2 : SVM régresseur')\n",
    "#RMSE\n",
    "print(\"Mean squared error: %.2f\"\n",
    "      % mean_squared_error(ySVR_test, ySVR_pred))\n",
    "\n",
    "# Explained variance score: 1 is perfect prediction\n",
    "print('Variance score: %.2f' % r2_score(ySVR_test, ySVR_pred))\n",
    "\n",
    "print('Modèle alternatif 3 : Régression linéaire multiple')\n",
    "#RMSE\n",
    "print(\"Mean squared error: %.2f\"\n",
    "      % mean_squared_error(yRLM_test, yRLM_pred))\n",
    "\n",
    "# Explained variance score: 1 is perfect prediction\n",
    "print('Variance score: %.2f' % r2_score(yRLM_test, yRLM_pred))\n",
    "\n",
    "\n",
    "print('A force de répéter (la sélection des jeux de test et entrainement est aléatoire), on voit que la Régression linéaire multiple se ditingue, de peu. Le régresseur KNN à 7 voisins semble le moins performant. Le régresseur SVM avec les 3 tables de données est moins précis, mais sera plus utile. Autres algos pouvant etre tentés : PCR, PLS, et KNN régresseur multiple')"
   ]
  },
  {
   "cell_type": "code",
   "execution_count": null,
   "metadata": {},
   "outputs": [],
   "source": []
  }
 ],
 "metadata": {
  "kernelspec": {
   "display_name": "Python 3",
   "language": "python",
   "name": "python3"
  },
  "language_info": {
   "codemirror_mode": {
    "name": "ipython",
    "version": 3
   },
   "file_extension": ".py",
   "mimetype": "text/x-python",
   "name": "python",
   "nbconvert_exporter": "python",
   "pygments_lexer": "ipython3",
   "version": "3.8.8"
  }
 },
 "nbformat": 4,
 "nbformat_minor": 2
}
