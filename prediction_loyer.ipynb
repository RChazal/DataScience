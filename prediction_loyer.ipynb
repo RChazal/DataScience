{
 "cells": [
  {
   "cell_type": "code",
   "execution_count": 1,
   "metadata": {},
   "outputs": [
    {
     "ename": "FileNotFoundError",
     "evalue": "File b'/Users/franck/Downloads/house_data.csv' does not exist",
     "output_type": "error",
     "traceback": [
      "\u001b[1;31m---------------------------------------------------------------------------\u001b[0m",
      "\u001b[1;31mFileNotFoundError\u001b[0m                         Traceback (most recent call last)",
      "\u001b[1;32m<ipython-input-1-54beea4a0c65>\u001b[0m in \u001b[0;36m<module>\u001b[1;34m()\u001b[0m\n\u001b[0;32m     42\u001b[0m \u001b[0mdata2Name\u001b[0m \u001b[1;33m=\u001b[0m \u001b[1;34m'arrondissement'\u001b[0m\u001b[1;33m\u001b[0m\u001b[0m\n\u001b[0;32m     43\u001b[0m \u001b[1;33m\u001b[0m\u001b[0m\n\u001b[1;32m---> 44\u001b[1;33m \u001b[0mdataset\u001b[0m \u001b[1;33m=\u001b[0m \u001b[0mpd\u001b[0m\u001b[1;33m.\u001b[0m\u001b[0mread_csv\u001b[0m\u001b[1;33m(\u001b[0m\u001b[0minput_file\u001b[0m\u001b[1;33m,\u001b[0m \u001b[0mdelimiter\u001b[0m\u001b[1;33m=\u001b[0m\u001b[1;34m','\u001b[0m\u001b[1;33m)\u001b[0m\u001b[1;33m\u001b[0m\u001b[0m\n\u001b[0m\u001b[0;32m     45\u001b[0m \u001b[1;33m\u001b[0m\u001b[0m\n\u001b[0;32m     46\u001b[0m \u001b[0mprint\u001b[0m\u001b[1;33m(\u001b[0m\u001b[1;34m\"--------------------------------------------------------------\"\u001b[0m\u001b[1;33m)\u001b[0m\u001b[1;33m\u001b[0m\u001b[0m\n",
      "\u001b[1;32m~\\Anaconda3\\lib\\site-packages\\pandas\\io\\parsers.py\u001b[0m in \u001b[0;36mparser_f\u001b[1;34m(filepath_or_buffer, sep, delimiter, header, names, index_col, usecols, squeeze, prefix, mangle_dupe_cols, dtype, engine, converters, true_values, false_values, skipinitialspace, skiprows, nrows, na_values, keep_default_na, na_filter, verbose, skip_blank_lines, parse_dates, infer_datetime_format, keep_date_col, date_parser, dayfirst, iterator, chunksize, compression, thousands, decimal, lineterminator, quotechar, quoting, escapechar, comment, encoding, dialect, tupleize_cols, error_bad_lines, warn_bad_lines, skipfooter, doublequote, delim_whitespace, low_memory, memory_map, float_precision)\u001b[0m\n\u001b[0;32m    676\u001b[0m                     skip_blank_lines=skip_blank_lines)\n\u001b[0;32m    677\u001b[0m \u001b[1;33m\u001b[0m\u001b[0m\n\u001b[1;32m--> 678\u001b[1;33m         \u001b[1;32mreturn\u001b[0m \u001b[0m_read\u001b[0m\u001b[1;33m(\u001b[0m\u001b[0mfilepath_or_buffer\u001b[0m\u001b[1;33m,\u001b[0m \u001b[0mkwds\u001b[0m\u001b[1;33m)\u001b[0m\u001b[1;33m\u001b[0m\u001b[0m\n\u001b[0m\u001b[0;32m    679\u001b[0m \u001b[1;33m\u001b[0m\u001b[0m\n\u001b[0;32m    680\u001b[0m     \u001b[0mparser_f\u001b[0m\u001b[1;33m.\u001b[0m\u001b[0m__name__\u001b[0m \u001b[1;33m=\u001b[0m \u001b[0mname\u001b[0m\u001b[1;33m\u001b[0m\u001b[0m\n",
      "\u001b[1;32m~\\Anaconda3\\lib\\site-packages\\pandas\\io\\parsers.py\u001b[0m in \u001b[0;36m_read\u001b[1;34m(filepath_or_buffer, kwds)\u001b[0m\n\u001b[0;32m    438\u001b[0m \u001b[1;33m\u001b[0m\u001b[0m\n\u001b[0;32m    439\u001b[0m     \u001b[1;31m# Create the parser.\u001b[0m\u001b[1;33m\u001b[0m\u001b[1;33m\u001b[0m\u001b[0m\n\u001b[1;32m--> 440\u001b[1;33m     \u001b[0mparser\u001b[0m \u001b[1;33m=\u001b[0m \u001b[0mTextFileReader\u001b[0m\u001b[1;33m(\u001b[0m\u001b[0mfilepath_or_buffer\u001b[0m\u001b[1;33m,\u001b[0m \u001b[1;33m**\u001b[0m\u001b[0mkwds\u001b[0m\u001b[1;33m)\u001b[0m\u001b[1;33m\u001b[0m\u001b[0m\n\u001b[0m\u001b[0;32m    441\u001b[0m \u001b[1;33m\u001b[0m\u001b[0m\n\u001b[0;32m    442\u001b[0m     \u001b[1;32mif\u001b[0m \u001b[0mchunksize\u001b[0m \u001b[1;32mor\u001b[0m \u001b[0miterator\u001b[0m\u001b[1;33m:\u001b[0m\u001b[1;33m\u001b[0m\u001b[0m\n",
      "\u001b[1;32m~\\Anaconda3\\lib\\site-packages\\pandas\\io\\parsers.py\u001b[0m in \u001b[0;36m__init__\u001b[1;34m(self, f, engine, **kwds)\u001b[0m\n\u001b[0;32m    785\u001b[0m             \u001b[0mself\u001b[0m\u001b[1;33m.\u001b[0m\u001b[0moptions\u001b[0m\u001b[1;33m[\u001b[0m\u001b[1;34m'has_index_names'\u001b[0m\u001b[1;33m]\u001b[0m \u001b[1;33m=\u001b[0m \u001b[0mkwds\u001b[0m\u001b[1;33m[\u001b[0m\u001b[1;34m'has_index_names'\u001b[0m\u001b[1;33m]\u001b[0m\u001b[1;33m\u001b[0m\u001b[0m\n\u001b[0;32m    786\u001b[0m \u001b[1;33m\u001b[0m\u001b[0m\n\u001b[1;32m--> 787\u001b[1;33m         \u001b[0mself\u001b[0m\u001b[1;33m.\u001b[0m\u001b[0m_make_engine\u001b[0m\u001b[1;33m(\u001b[0m\u001b[0mself\u001b[0m\u001b[1;33m.\u001b[0m\u001b[0mengine\u001b[0m\u001b[1;33m)\u001b[0m\u001b[1;33m\u001b[0m\u001b[0m\n\u001b[0m\u001b[0;32m    788\u001b[0m \u001b[1;33m\u001b[0m\u001b[0m\n\u001b[0;32m    789\u001b[0m     \u001b[1;32mdef\u001b[0m \u001b[0mclose\u001b[0m\u001b[1;33m(\u001b[0m\u001b[0mself\u001b[0m\u001b[1;33m)\u001b[0m\u001b[1;33m:\u001b[0m\u001b[1;33m\u001b[0m\u001b[0m\n",
      "\u001b[1;32m~\\Anaconda3\\lib\\site-packages\\pandas\\io\\parsers.py\u001b[0m in \u001b[0;36m_make_engine\u001b[1;34m(self, engine)\u001b[0m\n\u001b[0;32m   1012\u001b[0m     \u001b[1;32mdef\u001b[0m \u001b[0m_make_engine\u001b[0m\u001b[1;33m(\u001b[0m\u001b[0mself\u001b[0m\u001b[1;33m,\u001b[0m \u001b[0mengine\u001b[0m\u001b[1;33m=\u001b[0m\u001b[1;34m'c'\u001b[0m\u001b[1;33m)\u001b[0m\u001b[1;33m:\u001b[0m\u001b[1;33m\u001b[0m\u001b[0m\n\u001b[0;32m   1013\u001b[0m         \u001b[1;32mif\u001b[0m \u001b[0mengine\u001b[0m \u001b[1;33m==\u001b[0m \u001b[1;34m'c'\u001b[0m\u001b[1;33m:\u001b[0m\u001b[1;33m\u001b[0m\u001b[0m\n\u001b[1;32m-> 1014\u001b[1;33m             \u001b[0mself\u001b[0m\u001b[1;33m.\u001b[0m\u001b[0m_engine\u001b[0m \u001b[1;33m=\u001b[0m \u001b[0mCParserWrapper\u001b[0m\u001b[1;33m(\u001b[0m\u001b[0mself\u001b[0m\u001b[1;33m.\u001b[0m\u001b[0mf\u001b[0m\u001b[1;33m,\u001b[0m \u001b[1;33m**\u001b[0m\u001b[0mself\u001b[0m\u001b[1;33m.\u001b[0m\u001b[0moptions\u001b[0m\u001b[1;33m)\u001b[0m\u001b[1;33m\u001b[0m\u001b[0m\n\u001b[0m\u001b[0;32m   1015\u001b[0m         \u001b[1;32melse\u001b[0m\u001b[1;33m:\u001b[0m\u001b[1;33m\u001b[0m\u001b[0m\n\u001b[0;32m   1016\u001b[0m             \u001b[1;32mif\u001b[0m \u001b[0mengine\u001b[0m \u001b[1;33m==\u001b[0m \u001b[1;34m'python'\u001b[0m\u001b[1;33m:\u001b[0m\u001b[1;33m\u001b[0m\u001b[0m\n",
      "\u001b[1;32m~\\Anaconda3\\lib\\site-packages\\pandas\\io\\parsers.py\u001b[0m in \u001b[0;36m__init__\u001b[1;34m(self, src, **kwds)\u001b[0m\n\u001b[0;32m   1706\u001b[0m         \u001b[0mkwds\u001b[0m\u001b[1;33m[\u001b[0m\u001b[1;34m'usecols'\u001b[0m\u001b[1;33m]\u001b[0m \u001b[1;33m=\u001b[0m \u001b[0mself\u001b[0m\u001b[1;33m.\u001b[0m\u001b[0musecols\u001b[0m\u001b[1;33m\u001b[0m\u001b[0m\n\u001b[0;32m   1707\u001b[0m \u001b[1;33m\u001b[0m\u001b[0m\n\u001b[1;32m-> 1708\u001b[1;33m         \u001b[0mself\u001b[0m\u001b[1;33m.\u001b[0m\u001b[0m_reader\u001b[0m \u001b[1;33m=\u001b[0m \u001b[0mparsers\u001b[0m\u001b[1;33m.\u001b[0m\u001b[0mTextReader\u001b[0m\u001b[1;33m(\u001b[0m\u001b[0msrc\u001b[0m\u001b[1;33m,\u001b[0m \u001b[1;33m**\u001b[0m\u001b[0mkwds\u001b[0m\u001b[1;33m)\u001b[0m\u001b[1;33m\u001b[0m\u001b[0m\n\u001b[0m\u001b[0;32m   1709\u001b[0m \u001b[1;33m\u001b[0m\u001b[0m\n\u001b[0;32m   1710\u001b[0m         \u001b[0mpassed_names\u001b[0m \u001b[1;33m=\u001b[0m \u001b[0mself\u001b[0m\u001b[1;33m.\u001b[0m\u001b[0mnames\u001b[0m \u001b[1;32mis\u001b[0m \u001b[1;32mNone\u001b[0m\u001b[1;33m\u001b[0m\u001b[0m\n",
      "\u001b[1;32mpandas\\_libs\\parsers.pyx\u001b[0m in \u001b[0;36mpandas._libs.parsers.TextReader.__cinit__\u001b[1;34m()\u001b[0m\n",
      "\u001b[1;32mpandas\\_libs\\parsers.pyx\u001b[0m in \u001b[0;36mpandas._libs.parsers.TextReader._setup_parser_source\u001b[1;34m()\u001b[0m\n",
      "\u001b[1;31mFileNotFoundError\u001b[0m: File b'/Users/franck/Downloads/house_data.csv' does not exist"
     ]
    }
   ],
   "source": [
    "#!/usr/bin/env python3\n",
    "# -*- coding: utf-8 -*-\n",
    "\n",
    "\n",
    "import numpy as np\n",
    "import pandas as pd\n",
    "from sklearn.model_selection import train_test_split\n",
    "from matplotlib import pyplot as plt\n",
    "from sklearn import neighbors\n",
    "    \n",
    "\n",
    "def findKNeighborsClassifier(xtrain, xtest, ytrain, ytest):\n",
    "    result = 2\n",
    "    errors = []\n",
    "    errorPercent = 100\n",
    "    for k in range(2,10):\n",
    "        knn = neighbors.KNeighborsClassifier(k)\n",
    "        errorPercentTmp = 100*(1 - knn.fit(xtrain, ytrain).score(xtest, ytest))\n",
    "        errors.append(errorPercentTmp)\n",
    "        if(errorPercentTmp < errorPercent):\n",
    "            result = k\n",
    "            errorPercent = errorPercentTmp\n",
    "        \n",
    "    plt.plot(range(2,10), errors, 'o-')\n",
    "    plt.show()\n",
    "    return result\n",
    "    \n",
    "def showGraphByXdataAndYtarget(dataset, xDataName, yTargetName):\n",
    "    plt.plot(dataset[xDataName], dataset[yTargetName], 'ro', markersize=4)\n",
    "    plt.ylabel(yTargetName)\n",
    "    plt.xlabel(xDataName)\n",
    "    plt.show()\n",
    "    \n",
    "def datasetFilter(dataset, dataNames):\n",
    "    return dataset[dataNames]\n",
    "    \n",
    "    \n",
    "\n",
    "input_file = \"/Users/franck/Downloads/house_data.csv\"\n",
    "targetDataName = 'price'\n",
    "data1Name = 'surface'\n",
    "data2Name = 'arrondissement'\n",
    "\n",
    "dataset = pd.read_csv(input_file, delimiter=',')\n",
    "\n",
    "print(\"--------------------------------------------------------------\")\n",
    "print(\"1 - Etat initial apres lecture du fichier csv\")\n",
    "print(dataset.count())\n"
   ]
  },
  {
   "cell_type": "code",
   "execution_count": 5,
   "metadata": {},
   "outputs": [
    {
     "name": "stdout",
     "output_type": "stream",
     "text": [
      "--------------------------------------------------------------\n",
      "2 - Suppression des lignes contenant des valeurs null\n",
      "price             822\n",
      "surface           822\n",
      "arrondissement    822\n",
      "dtype: int64\n"
     ]
    }
   ],
   "source": [
    "print(\"--------------------------------------------------------------\")\n",
    "print(\"2 - Suppression des lignes contenant des valeurs null\")\n",
    "dataset = dataset.dropna()\n",
    "print(dataset.count())\n"
   ]
  },
  {
   "cell_type": "code",
   "execution_count": 6,
   "metadata": {},
   "outputs": [
    {
     "name": "stdout",
     "output_type": "stream",
     "text": [
      "--------------------------------------------------------------\n",
      "3 - Suppression des doublons\n",
      "price             735\n",
      "surface           735\n",
      "arrondissement    735\n",
      "dtype: int64\n"
     ]
    }
   ],
   "source": [
    "print(\"--------------------------------------------------------------\")\n",
    "print(\"3 - Suppression des doublons\")\n",
    "dataset = dataset.drop_duplicates()\n",
    "print(dataset.count())"
   ]
  },
  {
   "cell_type": "code",
   "execution_count": 7,
   "metadata": {},
   "outputs": [
    {
     "name": "stdout",
     "output_type": "stream",
     "text": [
      "--------------------------------------------------------------\n",
      "Affichage des donnees:\n"
     ]
    },
    {
     "data": {
      "image/png": "[encoded data removed]",
      "text/plain": [
       "<Figure size 432x288 with 1 Axes>"
      ]
     },
     "metadata": {
      "needs_background": "light"
     },
     "output_type": "display_data"
    },
    {
     "data": {
      "image/png": "[encoded data removed]",
      "text/plain": [
       "<Figure size 432x288 with 1 Axes>"
      ]
     },
     "metadata": {
      "needs_background": "light"
     },
     "output_type": "display_data"
    }
   ],
   "source": [
    "print(\"--------------------------------------------------------------\")\n",
    "print(\"Affichage des donnees:\")\n",
    "showGraphByXdataAndYtarget(dataset, data1Name, targetDataName)\n",
    "showGraphByXdataAndYtarget(dataset, data2Name, targetDataName)"
   ]
  },
  {
   "cell_type": "code",
   "execution_count": 8,
   "metadata": {},
   "outputs": [
    {
     "name": "stdout",
     "output_type": "stream",
     "text": [
      "--------------------------------------------------------------\n",
      "4 - Suppression des loyers superireur a 100000\n"
     ]
    },
    {
     "data": {
      "image/png": "[encoded data removed]",
      "text/plain": [
       "<Figure size 432x288 with 1 Axes>"
      ]
     },
     "metadata": {
      "needs_background": "light"
     },
     "output_type": "display_data"
    },
    {
     "data": {
      "image/png": "[encoded data removed]",
      "text/plain": [
       "<Figure size 432x288 with 1 Axes>"
      ]
     },
     "metadata": {
      "needs_background": "light"
     },
     "output_type": "display_data"
    },
    {
     "name": "stdout",
     "output_type": "stream",
     "text": [
      "price             728\n",
      "surface           728\n",
      "arrondissement    728\n",
      "dtype: int64\n"
     ]
    }
   ],
   "source": [
    "print(\"--------------------------------------------------------------\")\n",
    "print(\"4 - Suppression des loyers superireur a 100000\")\n",
    "dataset = dataset[dataset[targetDataName] < 10000]\n",
    "showGraphByXdataAndYtarget(dataset, data1Name, targetDataName)\n",
    "showGraphByXdataAndYtarget(dataset, data2Name, targetDataName)\n",
    "print(dataset.count())"
   ]
  },
  {
   "cell_type": "code",
   "execution_count": 9,
   "metadata": {},
   "outputs": [
    {
     "name": "stdout",
     "output_type": "stream",
     "text": [
      "--------------------------------------------------------------\n",
      "5 - Recherche du meilleur coefficient a appliquer sur l'algo KNeighborsClassifier\n"
     ]
    },
    {
     "data": {
      "image/png": "[encoded data removed]",
      "text/plain": [
       "<Figure size 432x288 with 1 Axes>"
      ]
     },
     "metadata": {
      "needs_background": "light"
     },
     "output_type": "display_data"
    },
    {
     "name": "stdout",
     "output_type": "stream",
     "text": [
      "meilleur coefficient: 9\n"
     ]
    }
   ],
   "source": [
    "# data contient que les données d'entrées (surface et arrondissement)\n",
    "data = datasetFilter(dataset, [data1Name, data2Name])\n",
    "\n",
    "# target contient que les prix \n",
    "target = datasetFilter(dataset, targetDataName)\n",
    "\n",
    "# repartition de 80% des donnes pour l'entrainement et 20% pour les tests\n",
    "xtrain, xtest, ytrain, ytest = train_test_split(data, target, test_size=0.2, train_size=0.8)\n",
    "\n",
    "print(\"--------------------------------------------------------------\")\n",
    "print(\"5 - Recherche du meilleur coefficient a appliquer sur l'algo KNeighborsClassifier\")\n",
    "kNeighbors = findKNeighborsClassifier(xtrain, xtest, ytrain, ytest)\n",
    "print(\"meilleur coefficient: \" + str(kNeighbors))"
   ]
  },
  {
   "cell_type": "code",
   "execution_count": 10,
   "metadata": {},
   "outputs": [
    {
     "name": "stdout",
     "output_type": "stream",
     "text": [
      "--------------------------------------------------------------\n",
      "6 - affichage des resultats des predictions\n",
      "La prediction du loyer d'une surface de: 127  dans l'arrondissement: 4  est de: 2900\n",
      "La prediction du loyer d'une surface de: 50  dans l'arrondissement: 10  est de: 1360\n",
      "La prediction du loyer d'une surface de: 38  dans l'arrondissement: 2  est de: 1100\n",
      "La prediction du loyer d'une surface de: 29  dans l'arrondissement: 3  est de: 900\n",
      "La prediction du loyer d'une surface de: 112  dans l'arrondissement: 3  est de: 3200\n",
      "La prediction du loyer d'une surface de: 20  dans l'arrondissement: 4  est de: 745\n",
      "La prediction du loyer d'une surface de: 31  dans l'arrondissement: 4  est de: 1400\n",
      "La prediction du loyer d'une surface de: 28  dans l'arrondissement: 10  est de: 684\n",
      "La prediction du loyer d'une surface de: 51  dans l'arrondissement: 2  est de: 1850\n",
      "La prediction du loyer d'une surface de: 21  dans l'arrondissement: 3  est de: 712\n",
      "La prediction du loyer d'une surface de: 73  dans l'arrondissement: 1  est de: 2180\n",
      "La prediction du loyer d'une surface de: 25  dans l'arrondissement: 10  est de: 733\n",
      "La prediction du loyer d'une surface de: 72  dans l'arrondissement: 4  est de: 1800\n",
      "La prediction du loyer d'une surface de: 160  dans l'arrondissement: 4  est de: 4722\n",
      "La prediction du loyer d'une surface de: 108  dans l'arrondissement: 10  est de: 3200\n",
      "La prediction du loyer d'une surface de: 161  dans l'arrondissement: 4  est de: 4722\n",
      "La prediction du loyer d'une surface de: 60  dans l'arrondissement: 2  est de: 1660\n",
      "La prediction du loyer d'une surface de: 35  dans l'arrondissement: 10  est de: 1200\n",
      "La prediction du loyer d'une surface de: 35  dans l'arrondissement: 4  est de: 1000\n",
      "La prediction du loyer d'une surface de: 24  dans l'arrondissement: 10  est de: 733\n",
      "La prediction du loyer d'une surface de: 73  dans l'arrondissement: 10  est de: 1630\n",
      "La prediction du loyer d'une surface de: 22  dans l'arrondissement: 10  est de: 600\n",
      "La prediction du loyer d'une surface de: 35  dans l'arrondissement: 2  est de: 899\n",
      "La prediction du loyer d'une surface de: 12  dans l'arrondissement: 3  est de: 650\n",
      "La prediction du loyer d'une surface de: 71  dans l'arrondissement: 1  est de: 1910\n",
      "La prediction du loyer d'une surface de: 44  dans l'arrondissement: 1  est de: 1185\n",
      "La prediction du loyer d'une surface de: 15  dans l'arrondissement: 10  est de: 498\n",
      "La prediction du loyer d'une surface de: 34  dans l'arrondissement: 1  est de: 899\n",
      "La prediction du loyer d'une surface de: 75  dans l'arrondissement: 10  est de: 1605\n",
      "La prediction du loyer d'une surface de: 45  dans l'arrondissement: 10  est de: 1350\n",
      "La prediction du loyer d'une surface de: 39  dans l'arrondissement: 10  est de: 850\n",
      "La prediction du loyer d'une surface de: 24  dans l'arrondissement: 4  est de: 1000\n",
      "La prediction du loyer d'une surface de: 40  dans l'arrondissement: 10  est de: 979\n",
      "La prediction du loyer d'une surface de: 40  dans l'arrondissement: 4  est de: 1700\n",
      "La prediction du loyer d'une surface de: 169  dans l'arrondissement: 10  est de: 5500\n",
      "La prediction du loyer d'une surface de: 50  dans l'arrondissement: 3  est de: 1375\n",
      "La prediction du loyer d'une surface de: 169  dans l'arrondissement: 10  est de: 5500\n",
      "La prediction du loyer d'une surface de: 113  dans l'arrondissement: 10  est de: 3200\n",
      "La prediction du loyer d'une surface de: 105  dans l'arrondissement: 1  est de: 2610\n",
      "La prediction du loyer d'une surface de: 30  dans l'arrondissement: 2  est de: 1250\n",
      "La prediction du loyer d'une surface de: 30  dans l'arrondissement: 3  est de: 1250\n",
      "La prediction du loyer d'une surface de: 59  dans l'arrondissement: 4  est de: 2500\n",
      "La prediction du loyer d'une surface de: 61  dans l'arrondissement: 3  est de: 1700\n",
      "La prediction du loyer d'une surface de: 55  dans l'arrondissement: 3  est de: 1520\n",
      "La prediction du loyer d'une surface de: 51  dans l'arrondissement: 10  est de: 1360\n",
      "La prediction du loyer d'une surface de: 23  dans l'arrondissement: 10  est de: 790\n",
      "La prediction du loyer d'une surface de: 19  dans l'arrondissement: 4  est de: 750\n",
      "La prediction du loyer d'une surface de: 120  dans l'arrondissement: 10  est de: 2445\n",
      "La prediction du loyer d'une surface de: 57  dans l'arrondissement: 10  est de: 1750\n",
      "La prediction du loyer d'une surface de: 31  dans l'arrondissement: 3  est de: 1150\n",
      "La prediction du loyer d'une surface de: 99  dans l'arrondissement: 4  est de: 2650\n",
      "La prediction du loyer d'une surface de: 33  dans l'arrondissement: 10  est de: 1100\n",
      "La prediction du loyer d'une surface de: 50  dans l'arrondissement: 3  est de: 1375\n",
      "La prediction du loyer d'une surface de: 26  dans l'arrondissement: 4  est de: 750\n",
      "La prediction du loyer d'une surface de: 92  dans l'arrondissement: 2  est de: 1900\n",
      "La prediction du loyer d'une surface de: 35  dans l'arrondissement: 4  est de: 1000\n",
      "La prediction du loyer d'une surface de: 68  dans l'arrondissement: 1  est de: 1960\n",
      "La prediction du loyer d'une surface de: 40  dans l'arrondissement: 3  est de: 1700\n",
      "La prediction du loyer d'une surface de: 56  dans l'arrondissement: 10  est de: 1750\n",
      "La prediction du loyer d'une surface de: 65  dans l'arrondissement: 10  est de: 1488\n",
      "La prediction du loyer d'une surface de: 24  dans l'arrondissement: 1  est de: 620\n",
      "La prediction du loyer d'une surface de: 100  dans l'arrondissement: 3  est de: 2650\n",
      "La prediction du loyer d'une surface de: 27  dans l'arrondissement: 10  est de: 684\n",
      "La prediction du loyer d'une surface de: 21  dans l'arrondissement: 10  est de: 600\n",
      "La prediction du loyer d'une surface de: 41  dans l'arrondissement: 1  est de: 1120\n",
      "La prediction du loyer d'une surface de: 25  dans l'arrondissement: 10  est de: 733\n",
      "La prediction du loyer d'une surface de: 30  dans l'arrondissement: 3  est de: 1150\n",
      "La prediction du loyer d'une surface de: 76  dans l'arrondissement: 1  est de: 2500\n",
      "La prediction du loyer d'une surface de: 28  dans l'arrondissement: 4  est de: 1100\n",
      "La prediction du loyer d'une surface de: 64  dans l'arrondissement: 2  est de: 2300\n",
      "La prediction du loyer d'une surface de: 32  dans l'arrondissement: 4  est de: 1400\n",
      "La prediction du loyer d'une surface de: 16  dans l'arrondissement: 10  est de: 550\n",
      "La prediction du loyer d'une surface de: 16  dans l'arrondissement: 4  est de: 930\n",
      "La prediction du loyer d'une surface de: 66  dans l'arrondissement: 10  est de: 1488\n",
      "La prediction du loyer d'une surface de: 71  dans l'arrondissement: 10  est de: 1630\n",
      "La prediction du loyer d'une surface de: 50  dans l'arrondissement: 1  est de: 1375\n",
      "La prediction du loyer d'une surface de: 27  dans l'arrondissement: 3  est de: 1100\n",
      "La prediction du loyer d'une surface de: 42  dans l'arrondissement: 1  est de: 1120\n",
      "La prediction du loyer d'une surface de: 70  dans l'arrondissement: 10  est de: 1630\n",
      "La prediction du loyer d'une surface de: 114  dans l'arrondissement: 3  est de: 3200\n",
      "La prediction du loyer d'une surface de: 65  dans l'arrondissement: 4  est de: 1750\n",
      "La prediction du loyer d'une surface de: 91  dans l'arrondissement: 4  est de: 2309\n",
      "La prediction du loyer d'une surface de: 11  dans l'arrondissement: 3  est de: 650\n",
      "La prediction du loyer d'une surface de: 72  dans l'arrondissement: 4  est de: 1800\n",
      "La prediction du loyer d'une surface de: 70  dans l'arrondissement: 2  est de: 1910\n",
      "La prediction du loyer d'une surface de: 30  dans l'arrondissement: 10  est de: 684\n",
      "La prediction du loyer d'une surface de: 40  dans l'arrondissement: 1  est de: 1120\n",
      "La prediction du loyer d'une surface de: 48  dans l'arrondissement: 3  est de: 1060\n",
      "La prediction du loyer d'une surface de: 45  dans l'arrondissement: 10  est de: 1350\n",
      "La prediction du loyer d'une surface de: 55  dans l'arrondissement: 1  est de: 1490\n",
      "La prediction du loyer d'une surface de: 136  dans l'arrondissement: 2  est de: 2800\n",
      "La prediction du loyer d'une surface de: 35  dans l'arrondissement: 2  est de: 899\n",
      "La prediction du loyer d'une surface de: 70  dans l'arrondissement: 1  est de: 1910\n",
      "La prediction du loyer d'une surface de: 47  dans l'arrondissement: 10  est de: 1350\n",
      "La prediction du loyer d'une surface de: 14  dans l'arrondissement: 10  est de: 550\n",
      "La prediction du loyer d'une surface de: 61  dans l'arrondissement: 10  est de: 1235\n",
      "La prediction du loyer d'une surface de: 76  dans l'arrondissement: 1  est de: 2500\n",
      "La prediction du loyer d'une surface de: 54  dans l'arrondissement: 4  est de: 1850\n",
      "La prediction du loyer d'une surface de: 82  dans l'arrondissement: 4  est de: 2150\n",
      "La prediction du loyer d'une surface de: 40  dans l'arrondissement: 10  est de: 979\n",
      "La prediction du loyer d'une surface de: 77  dans l'arrondissement: 1  est de: 2500\n",
      "La prediction du loyer d'une surface de: 43  dans l'arrondissement: 3  est de: 1400\n",
      "La prediction du loyer d'une surface de: 41  dans l'arrondissement: 4  est de: 2000\n",
      "La prediction du loyer d'une surface de: 53  dans l'arrondissement: 10  est de: 1360\n",
      "La prediction du loyer d'une surface de: 42  dans l'arrondissement: 3  est de: 1400\n",
      "La prediction du loyer d'une surface de: 58  dans l'arrondissement: 2  est de: 1350\n",
      "La prediction du loyer d'une surface de: 26  dans l'arrondissement: 4  est de: 930\n",
      "La prediction du loyer d'une surface de: 94  dans l'arrondissement: 3  est de: 2941\n",
      "La prediction du loyer d'une surface de: 36  dans l'arrondissement: 10  est de: 1200\n",
      "La prediction du loyer d'une surface de: 30  dans l'arrondissement: 1  est de: 1250\n",
      "La prediction du loyer d'une surface de: 36  dans l'arrondissement: 10  est de: 1200\n",
      "La prediction du loyer d'une surface de: 19  dans l'arrondissement: 4  est de: 750\n",
      "La prediction du loyer d'une surface de: 31  dans l'arrondissement: 10  est de: 860\n",
      "La prediction du loyer d'une surface de: 65  dans l'arrondissement: 1  est de: 2300\n",
      "La prediction du loyer d'une surface de: 35  dans l'arrondissement: 3  est de: 1000\n",
      "La prediction du loyer d'une surface de: 57  dans l'arrondissement: 2  est de: 2200\n",
      "La prediction du loyer d'une surface de: 31  dans l'arrondissement: 3  est de: 1150\n",
      "La prediction du loyer d'une surface de: 40  dans l'arrondissement: 1  est de: 1120\n",
      "La prediction du loyer d'une surface de: 18  dans l'arrondissement: 4  est de: 646\n",
      "La prediction du loyer d'une surface de: 55  dans l'arrondissement: 4  est de: 1520\n",
      "La prediction du loyer d'une surface de: 36  dans l'arrondissement: 3  est de: 1000\n",
      "La prediction du loyer d'une surface de: 100  dans l'arrondissement: 3  est de: 2650\n",
      "La prediction du loyer d'une surface de: 77  dans l'arrondissement: 3  est de: 2500\n",
      "La prediction du loyer d'une surface de: 20  dans l'arrondissement: 10  est de: 600\n",
      "La prediction du loyer d'une surface de: 50  dans l'arrondissement: 4  est de: 1380\n",
      "La prediction du loyer d'une surface de: 80  dans l'arrondissement: 1  est de: 2000\n",
      "La prediction du loyer d'une surface de: 41  dans l'arrondissement: 3  est de: 1700\n",
      "La prediction du loyer d'une surface de: 29  dans l'arrondissement: 3  est de: 900\n",
      "La prediction du loyer d'une surface de: 33  dans l'arrondissement: 3  est de: 1400\n",
      "La prediction du loyer d'une surface de: 40  dans l'arrondissement: 10  est de: 979\n",
      "La prediction du loyer d'une surface de: 16  dans l'arrondissement: 2  est de: 603\n",
      "La prediction du loyer d'une surface de: 50  dans l'arrondissement: 10  est de: 1360\n",
      "La prediction du loyer d'une surface de: 38  dans l'arrondissement: 3  est de: 1300\n",
      "La prediction du loyer d'une surface de: 40  dans l'arrondissement: 4  est de: 1700\n",
      "La prediction du loyer d'une surface de: 53  dans l'arrondissement: 4  est de: 1640\n",
      "La prediction du loyer d'une surface de: 85  dans l'arrondissement: 4  est de: 1600\n",
      "La prediction du loyer d'une surface de: 29  dans l'arrondissement: 10  est de: 684\n",
      "La prediction du loyer d'une surface de: 20  dans l'arrondissement: 3  est de: 712\n",
      "La prediction du loyer d'une surface de: 22  dans l'arrondissement: 10  est de: 600\n",
      "La prediction du loyer d'une surface de: 114  dans l'arrondissement: 3  est de: 3200\n",
      "La prediction du loyer d'une surface de: 173  dans l'arrondissement: 1  est de: 4722\n",
      "La prediction du loyer d'une surface de: 30  dans l'arrondissement: 3  est de: 1250\n",
      "La prediction du loyer d'une surface de: 47  dans l'arrondissement: 1  est de: 1950\n",
      "La prediction du loyer d'une surface de: 84  dans l'arrondissement: 1  est de: 2300\n",
      "La prediction du loyer d'une surface de: 135  dans l'arrondissement: 1  est de: 2800\n",
      "La prediction du loyer d'une surface de: 20  dans l'arrondissement: 2  est de: 800\n"
     ]
    }
   ],
   "source": [
    "# entrainement du modele\n",
    "knn = neighbors.KNeighborsClassifier(kNeighbors)\n",
    "knn.fit(xtrain, ytrain)\n",
    "\n",
    "# On récupère les prédictions sur les données test\n",
    "predicted = knn.predict(xtest)\n",
    "\n",
    "print(\"--------------------------------------------------------------\")\n",
    "print(\"6 - affichage des resultats des predictions\")\n",
    "for i in range(len(xtest)) :\n",
    "    print(\"La prediction du loyer d'une surface de: \" \n",
    "          + str(int(xtest.iloc[i][data1Name]))\n",
    "          + \"  dans l'arrondissement: \"\n",
    "          + str(int(xtest.iloc[i][data2Name]))\n",
    "          + \"  est de: \"\n",
    "          + str(predicted[i]))"
   ]
  },
  {
   "cell_type": "code",
   "execution_count": null,
   "metadata": {},
   "outputs": [],
   "source": []
  }
 ],
 "metadata": {
  "kernelspec": {
   "display_name": "Python 3",
   "language": "python",
   "name": "python3"
  },
  "language_info": {
   "codemirror_mode": {
    "name": "ipython",
    "version": 3
   },
   "file_extension": ".py",
   "mimetype": "text/x-python",
   "name": "python",
   "nbconvert_exporter": "python",
   "pygments_lexer": "ipython3",
   "version": "3.6.5"
  }
 },
 "nbformat": 4,
 "nbformat_minor": 2
}
